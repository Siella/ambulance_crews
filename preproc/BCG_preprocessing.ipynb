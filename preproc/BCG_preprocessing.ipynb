{
  "nbformat": 4,
  "nbformat_minor": 0,
  "metadata": {
    "colab": {
      "name": "BCG_preprocessing.ipynb",
      "provenance": [],
      "collapsed_sections": []
    },
    "kernelspec": {
      "name": "python3",
      "display_name": "Python 3"
    },
    "language_info": {
      "name": "python"
    }
  },
  "cells": [
    {
      "cell_type": "code",
      "metadata": {
        "id": "A2vET0v1b86Y"
      },
      "source": [
        "import pandas as pd\n",
        "import numpy as np\n",
        "import matplotlib.pyplot as plt \n",
        "import datetime\n",
        "\n",
        "plt.rcParams[\"figure.figsize\"] = (20,10)"
      ],
      "execution_count": 95,
      "outputs": []
    },
    {
      "cell_type": "code",
      "metadata": {
        "id": "PPeQU84YdZ5D"
      },
      "source": [
        "data = pd.read_csv('icl_train.csv')"
      ],
      "execution_count": 102,
      "outputs": []
    },
    {
      "cell_type": "code",
      "metadata": {
        "id": "PbaPTZ6Ht324"
      },
      "source": [
        "def show_data_by_dates(data,column_name,\n",
        "                       left = datetime.date(2019, 1, 1),\n",
        "                       right = datetime.date(2019, 2, 1)):\n",
        "  group = data[[column_name,'day_date']].groupby(by = ['day_date']).sum()\n",
        "  x = group.index\n",
        "  y = group[column_name]\n",
        "  fig, ax = plt.subplots()\n",
        "  ax.plot_date(x, y,'b-')\n",
        "  fig.autofmt_xdate()\n",
        "  ax.set_xlim([left, right])"
      ],
      "execution_count": 3,
      "outputs": []
    },
    {
      "cell_type": "code",
      "metadata": {
        "id": "yCh9pisGy6nP"
      },
      "source": [
        "def plot_timeseries(df, station, start_date, end_date):\n",
        "    fig, ax = plt.subplots(figsize=(20,8))\n",
        "    st_df = df[df.zone == station][['date', 'total']]\n",
        "    st_df = st_df.loc[(st_df.date >= pd.to_datetime(start_date)) & (st_df.date <= pd.to_datetime(end_date))]\n",
        "    ax.plot(st_df.date, st_df.total, '.--')\n",
        "    ax.set_title(station)\n",
        "    plt.show();"
      ],
      "execution_count": 4,
      "outputs": []
    },
    {
      "cell_type": "code",
      "metadata": {
        "id": "4zQval7_lAqN"
      },
      "source": [
        "#change data\n",
        "data['total'] = data.iloc[:, 2:].sum(axis=1)\n",
        "data['date'] = pd.to_datetime(data['date'])\n",
        "data['year'] = data['date'].apply(lambda x: x.year)\n",
        "data['day'] = data['date'].apply(lambda x: x.day)\n",
        "data['hour'] = data['date'].apply(lambda x: x.hour)\n",
        "data['day_date'] = data['date'].apply(lambda x: x.date())\n",
        "data['day_date'] = pd.to_datetime(data['day_date'])\n",
        "data['day_name'] = data['date'].apply(lambda x: x.day_name())\n",
        "data['day_year'] = data['date'].apply(lambda x: x.dayofyear)                                  \n"
      ],
      "execution_count": 103,
      "outputs": []
    },
    {
      "cell_type": "code",
      "metadata": {
        "id": "DOR-X6PO-pPW"
      },
      "source": [
        "stations = data['zone'].unique()"
      ],
      "execution_count": 88,
      "outputs": []
    },
    {
      "cell_type": "code",
      "metadata": {
        "id": "JXmJSnr9FJjF"
      },
      "source": [
        "#plot_timeseries(data, stations[0], '20190105', '20190107')"
      ],
      "execution_count": null,
      "outputs": []
    },
    {
      "cell_type": "code",
      "metadata": {
        "id": "PVip9mwyJtXL"
      },
      "source": [
        "def add_lag(df,column_name,lag_length):\n",
        "  for lag in range(1,lag_length+1):\n",
        "    df[column_name+'_'+str(lag)] = df[column_name].shift(lag)\n",
        "  return df\n",
        "\n",
        "#amount - количество дней/часов в году..\n",
        "def encode_time(df, column_name, amount):\n",
        "  df[column_name+'_s'] = df[column_name].apply(lambda x: np.sin((2*np.pi)/amount*x))\n",
        "  df[column_name+'_c'] = df[column_name].apply(lambda x: np.cos((2*np.pi)/amount*x))\n",
        "  return df\n",
        "\n",
        "def moving_average(df, column_name, moving_length):\n",
        "  df[column_name+'_ma_'+str(moving_length)] = df[column_name].rolling(window=moving_length).mean().shift(1)\n",
        "  return df\n",
        "\n",
        "def gaussian_average(df, column_name, moving_length):\n",
        "  df[column_name+'_ga_'+str(moving_length)] = df[column_name].rolling(window=5, win_type='gaussian').mean(std=0.5).shift(1)\n",
        "  return df\n",
        "\n",
        "def exp_average(df, column_name):\n",
        "  df[column_name+'_ea_'] = df[column_name].ewm(com=0.5).mean().shift(1)\n",
        "  return df\n",
        "\n",
        "def day_off(day):\n",
        "  if day in ['Sunday','Saturday']:\n",
        "    return 1\n",
        "  else:\n",
        "    return 0\n",
        "\n",
        "def salary_day(day):\n",
        "  if ((day>24) or (day<6)):\n",
        "    return 1\n",
        "  else:\n",
        "    return 0"
      ],
      "execution_count": 6,
      "outputs": []
    },
    {
      "cell_type": "code",
      "metadata": {
        "id": "pRof3TNR8YHP"
      },
      "source": [
        "#data"
      ],
      "execution_count": null,
      "outputs": []
    },
    {
      "cell_type": "code",
      "metadata": {
        "id": "ApJDZ_XjImL9"
      },
      "source": [
        "#column_name = 'Перевозка плановая'\n",
        "#station = stations[0]\n",
        "#train_df = data[['date','year','day_year','day','hour','zone','day_name',column_name]].query('zone == @station')"
      ],
      "execution_count": 106,
      "outputs": []
    },
    {
      "cell_type": "markdown",
      "metadata": {
        "id": "MOkU7d5HG1tV"
      },
      "source": [
        "# Add_data"
      ]
    },
    {
      "cell_type": "code",
      "metadata": {
        "id": "Mbr7BBf5IqSB"
      },
      "source": [
        "data_weather = pd.read_csv('weather_prepared_interpolated.csv', encoding='1251', sep = ',')\n",
        "data_weather = pd.concat([data_weather,pd.get_dummies(data_weather['weather'])],axis=1)\n",
        "data_weather = data_weather.drop(columns = ['weather'])\n",
        "data_weather['date'] = pd.to_datetime(data_weather['Unnamed: 0'])\n",
        "weather_columns = ['temp', 'w_spid', 'p', 'малооблачно', 'облачно',\n",
        "       'пасмурно', 'ясно']\n",
        "#data_weather = data_weather.set_index('Unnamed: 0')\n",
        "\n",
        "#data = data.set_index('date')\n",
        "#data = data.join(data_weather, lsuffix='', rsuffix='',how = 'left')\n",
        "data = pd.merge(data, data_weather,  how='left', left_on=['date'], right_on = ['date'])"
      ],
      "execution_count": 111,
      "outputs": []
    },
    {
      "cell_type": "code",
      "metadata": {
        "id": "dDZtsXvjG4zd"
      },
      "source": [
        "data_covid = pd.read_csv('covid_tatarstan.csv', encoding='1251', sep = ';')\n",
        "data_covid['DateTime'] = pd.to_datetime(data_covid['DateTime'])\n",
        "covid_columns = ['Заражений за день']\n",
        "data_covid['day_date'] = data_covid['DateTime']\n",
        "data_covid = data_covid.drop(columns = ['DateTime'])\n",
        "\n",
        "data = pd.merge(data, data_covid,  how='left', left_on=['day_date'], right_on = ['day_date'])"
      ],
      "execution_count": 113,
      "outputs": []
    },
    {
      "cell_type": "code",
      "metadata": {
        "id": "4U7Eg3L3QpLA"
      },
      "source": [
        "data = data.fillna(0)"
      ],
      "execution_count": 115,
      "outputs": []
    },
    {
      "cell_type": "markdown",
      "metadata": {
        "id": "8b4I3gShuUro"
      },
      "source": [
        "# Preprocessing"
      ]
    },
    {
      "cell_type": "code",
      "metadata": {
        "id": "hy3XSDc-PRmE"
      },
      "source": [
        "#time_columns = ['date','year','day_year','day','hour','zone','day_name','Перевозка плановая']\n",
        "#train_df = data[time_columns+weather_columns+covid_columns].query('zone == @stations[0]')"
      ],
      "execution_count": 117,
      "outputs": []
    },
    {
      "cell_type": "code",
      "metadata": {
        "colab": {
          "base_uri": "https://localhost:8080/"
        },
        "id": "8Aib-074QAKM",
        "outputId": "46b7f571-65cf-4c1e-b020-c058debb3772"
      },
      "source": [
        "#train_df.isnull().sum()"
      ],
      "execution_count": 118,
      "outputs": [
        {
          "output_type": "execute_result",
          "data": {
            "text/plain": [
              "date                  0\n",
              "year                  0\n",
              "day_year              0\n",
              "day                   0\n",
              "hour                  0\n",
              "zone                  0\n",
              "day_name              0\n",
              "Перевозка плановая    0\n",
              "temp                  0\n",
              "w_spid                0\n",
              "p                     0\n",
              "малооблачно           0\n",
              "облачно               0\n",
              "пасмурно              0\n",
              "ясно                  0\n",
              "Заражений за день     0\n",
              "dtype: int64"
            ]
          },
          "metadata": {
            "tags": []
          },
          "execution_count": 118
        }
      ]
    },
    {
      "cell_type": "code",
      "metadata": {
        "id": "UYCblYWW81AI"
      },
      "source": [
        "def preprocessing(train_df, column_name, lag_length = 100):\n",
        "  moving_length = [6,12,24,48]\n",
        "  moving_column_names = []\n",
        "\n",
        "  train_df = encode_time(train_df,'hour',24)\n",
        "  train_df = encode_time(train_df,'day',30)\n",
        "  train_df = encode_time(train_df,'day_year',365)\n",
        "\n",
        "  train_df = pd.concat([train_df,pd.get_dummies(train_df['year'])],axis=1)\n",
        "  train_df = pd.concat([train_df,pd.get_dummies(train_df['day_name'])],axis=1)\n",
        "  train_df['day_off'] = train_df['day_name'].apply(day_off)\n",
        "  train_df['salary_day'] = train_df['day'].apply(salary_day)\n",
        "\n",
        "  #Все фичи для которых можно сделать average + lag\n",
        "  for clmn in [column_name,'Заражений за день','temp','w_spid']:\n",
        "    for i in moving_length:\n",
        "      train_df = moving_average(train_df, clmn, i)\n",
        "      moving_column_names.append(clmn+'_ma_'+str(i))\n",
        "    for i in moving_length:\n",
        "      train_df = gaussian_average(train_df, clmn, i)\n",
        "      moving_column_names.append(clmn+'_ga_'+str(i))\n",
        "    train_df = exp_average(train_df, clmn)\n",
        "    moving_column_names.append(clmn+'_ea_')\n",
        "    moving_column_names.append(clmn)\n",
        "\n",
        "  #Дифференциал\n",
        "  for diff_feature in moving_column_names:\n",
        "    train_df[diff_feature+'_diff'] = train_df[diff_feature].diff().shift(1)\n",
        "\n",
        "  #Лаги\n",
        "  for lag_feature in moving_column_names:\n",
        "    train_df = add_lag(train_df,lag_feature,lag_length)\n",
        "\n",
        "  additional_lag_columns = ['salary_day','day_off']\n",
        "  for lag_feature in additional_lag_columns:\n",
        "    train_df = add_lag(train_df,lag_feature,3)\n",
        "\n",
        "  train_df = train_df.dropna()\n",
        "  train_df = train_df.drop(columns = ['date','year','day_year','day','hour','zone','day_name'])\n",
        "\n",
        "  return train_df"
      ],
      "execution_count": 120,
      "outputs": []
    },
    {
      "cell_type": "markdown",
      "metadata": {
        "id": "GUcl52qxt3Df"
      },
      "source": [
        "# LinReg"
      ]
    },
    {
      "cell_type": "code",
      "metadata": {
        "id": "-Omp3uuffCZR"
      },
      "source": [
        "import sklearn\n",
        "from tqdm import tqdm\n",
        "from sklearn.model_selection import TimeSeriesSplit\n",
        "from sklearn.linear_model import LinearRegression\n",
        "from sklearn.linear_model import Ridge\n",
        "from sklearn.metrics import mean_absolute_error"
      ],
      "execution_count": 121,
      "outputs": []
    },
    {
      "cell_type": "code",
      "metadata": {
        "id": "tjESKHRbuzcQ"
      },
      "source": [
        "train_df = train_df.reset_index()\n",
        "train_df = train_df.drop(columns = ['index'])\n",
        "X = train_df.drop(columns = [column_name])\n",
        "Y = train_df[column_name]"
      ],
      "execution_count": 112,
      "outputs": []
    },
    {
      "cell_type": "code",
      "metadata": {
        "id": "Z2j_50UUAoCo"
      },
      "source": [
        "time_columns = ['date','year','day_year','day','hour','zone','day_name','Перевозка плановая']"
      ],
      "execution_count": 13,
      "outputs": []
    },
    {
      "cell_type": "code",
      "metadata": {
        "colab": {
          "base_uri": "https://localhost:8080/"
        },
        "id": "Yj8Z1sqMu5Ty",
        "outputId": "159e29ed-13e6-4d8f-ebaa-27ec64b33425"
      },
      "source": [
        "columns_to_test = ['Перевозка плановая','Вызов специальной бригады','Перевозка экстренная']\n",
        "stations_to_test = stations[0:3]\n",
        "time_columns = ['date','year','day_year','day','hour','zone','day_name']\n",
        "lag_length = 100\n",
        "\n",
        "final_mae = np.array([])\n",
        "\n",
        "for column_name in tqdm(columns_to_test):\n",
        "  for station in stations_to_test:\n",
        "    train_df = data[time_columns+weather_columns+covid_columns+[column_name]].query('zone == @station')\n",
        "    train_df = preprocessing(train_df,column_name, lag_length)\n",
        "\n",
        "    train_df = train_df.reset_index()\n",
        "    train_df = train_df.drop(columns = ['index'])\n",
        "    X = train_df.drop(columns = [column_name])\n",
        "    Y = train_df[column_name]\n",
        "    \n",
        "    lr_rmse_list = np.array([])\n",
        "    tscv = TimeSeriesSplit()\n",
        "    for train_index, test_index in tscv.split(X):\n",
        "      X_train, X_test = X.loc[train_index], X.loc[test_index]\n",
        "      y_train, y_test = Y.loc[train_index], Y.loc[test_index]\n",
        "      \n",
        "      # ТУТ УЧИМ И ТЕСТИМ\n",
        "      #lr_model = LinearRegression()\n",
        "      lr_model = Ridge(alpha=1.0)\n",
        "      lr_model.fit(X_train,y_train)\n",
        "      \n",
        "      predicted = lr_model.predict(X_test).round()\n",
        "      lr_rmse = mean_absolute_error(y_test,predicted)\n",
        "      lr_rmse_list = np.append(lr_rmse_list,lr_rmse)\n",
        "      \n",
        "      #print('MAE = %.2f' % lr_rmse)\n",
        "    final_mae = np.append(final_mae,lr_rmse.mean())\n",
        "    print('\\n',pd.Series(predicted).value_counts())\n",
        "    print(lr_rmse_list)\n",
        "    print('MAE ', column_name,' ', station,' - ', lr_rmse_list.mean())\n",
        "    print('All 0', mean_absolute_error(y_test,np.zeros(len(y_test))),'\\n')\n",
        "\n",
        "print('*'*10+'\\n')\n",
        "print('MAE: ', final_mae.mean(),' lag: ', lag_length)"
      ],
      "execution_count": 126,
      "outputs": [
        {
          "output_type": "stream",
          "text": [
            "\r  0%|                                                                                            | 0/3 [00:00<?, ?it/s]"
          ],
          "name": "stderr"
        },
        {
          "output_type": "stream",
          "text": [
            "\n",
            "  1.0    935\n",
            " 3.0    736\n",
            " 2.0    723\n",
            " 4.0    315\n",
            " 0.0    173\n",
            " 5.0     15\n",
            "-1.0      1\n",
            "dtype: int64\n",
            "[0.71463078 0.64596273 0.64699793 1.46480331 1.2284334 ]\n",
            "MAE  Перевозка плановая   П/станция 1  -  0.9401656314699792\n",
            "All 0 2.067287784679089 \n",
            "\n",
            "\n",
            "  1.0    1744\n",
            " 2.0     781\n",
            " 0.0     361\n",
            " 3.0      11\n",
            "-1.0       1\n",
            "dtype: int64\n",
            "[0.32125604 0.31918565 0.38371291 0.7926156  1.09765355]\n",
            "MAE  Перевозка плановая   П/станция 2  -  0.5828847481021393\n",
            "All 0 1.279848171152519 \n",
            "\n"
          ],
          "name": "stdout"
        },
        {
          "output_type": "stream",
          "text": [
            "\r 33%|████████████████████████████                                                        | 1/3 [01:22<02:44, 82.05s/it]"
          ],
          "name": "stderr"
        },
        {
          "output_type": "stream",
          "text": [
            "\n",
            " 1.0    1823\n",
            "0.0     904\n",
            "2.0     171\n",
            "dtype: int64\n",
            "[0.62249827 0.50172533 0.51069703 0.67253278 0.74223602]\n",
            "MAE  Перевозка плановая   П/станция 3  -  0.6099378881987578\n",
            "All 0 0.8026224982746721 \n",
            "\n",
            "\n",
            " 0.0    2898\n",
            "dtype: int64\n",
            "[0.02346446 0.02311939 0.01897861 0.02035887 0.01828847]\n",
            "MAE  Вызов специальной бригады   П/станция 1  -  0.020841959972394755\n",
            "All 0 0.01828847481021394 \n",
            "\n",
            "\n",
            " -0.0    2898\n",
            "dtype: int64\n",
            "[0.02070393 0.01966874 0.01690821 0.01966874 0.01863354]\n",
            "MAE  Вызов специальной бригады   П/станция 2  -  0.01911663216011042\n",
            "All 0 0.018633540372670808 \n",
            "\n"
          ],
          "name": "stdout"
        },
        {
          "output_type": "stream",
          "text": [
            "\r 67%|████████████████████████████████████████████████████████                            | 2/3 [02:42<01:20, 80.88s/it]"
          ],
          "name": "stderr"
        },
        {
          "output_type": "stream",
          "text": [
            "\n",
            " 0.0    2898\n",
            "dtype: int64\n",
            "[0.01483782 0.01518288 0.00966184 0.01725328 0.01380262]\n",
            "MAE  Вызов специальной бригады   П/станция 3  -  0.01414768806073154\n",
            "All 0 0.013802622498274672 \n",
            "\n",
            "\n",
            " 0.0    2192\n",
            "1.0     706\n",
            "dtype: int64\n",
            "[0.28743961 0.27260179 0.26397516 0.36853002 0.36231884]\n",
            "MAE  Перевозка экстренная   П/станция 1  -  0.3109730848861284\n",
            "All 0 0.32988267770876467 \n",
            "\n",
            "\n",
            " 0.0    2890\n",
            "1.0       8\n",
            "dtype: int64\n",
            "[0.08661146 0.09627329 0.12111801 0.17218772 0.16873706]\n",
            "MAE  Перевозка экстренная   П/станция 2  -  0.1289855072463768\n",
            "All 0 0.16735679779158041 \n",
            "\n"
          ],
          "name": "stdout"
        },
        {
          "output_type": "stream",
          "text": [
            "100%|████████████████████████████████████████████████████████████████████████████████████| 3/3 [04:00<00:00, 80.33s/it]"
          ],
          "name": "stderr"
        },
        {
          "output_type": "stream",
          "text": [
            "\n",
            " 0.0    2611\n",
            "1.0     287\n",
            "dtype: int64\n",
            "[0.19392685 0.1863354  0.21325052 0.27639752 0.25189786]\n",
            "MAE  Перевозка экстренная   П/станция 3  -  0.2243616287094548\n",
            "All 0 0.23360938578329882 \n",
            "\n",
            "**********\n",
            "\n",
            "MAE:  0.43355570891802775  lag:  100\n"
          ],
          "name": "stdout"
        },
        {
          "output_type": "stream",
          "text": [
            "\n"
          ],
          "name": "stderr"
        }
      ]
    }
  ]
}