{
  "nbformat": 4,
  "nbformat_minor": 0,
  "metadata": {
    "colab": {
      "name": "BCG_preprocessing.ipynb",
      "provenance": [],
      "collapsed_sections": [
        "8b4I3gShuUro"
      ]
    },
    "kernelspec": {
      "name": "python3",
      "display_name": "Python 3"
    },
    "language_info": {
      "name": "python"
    }
  },
  "cells": [
    {
      "cell_type": "code",
      "metadata": {
        "id": "A2vET0v1b86Y"
      },
      "source": [
        "import pandas as pd\n",
        "import numpy as np\n",
        "import matplotlib.pyplot as plt \n",
        "import datetime\n",
        "\n",
        "plt.rcParams[\"figure.figsize\"] = (20,10)"
      ],
      "execution_count": 54,
      "outputs": []
    },
    {
      "cell_type": "code",
      "metadata": {
        "id": "PPeQU84YdZ5D"
      },
      "source": [
        "data = pd.read_csv('icl_train.csv')"
      ],
      "execution_count": 16,
      "outputs": []
    },
    {
      "cell_type": "code",
      "metadata": {
        "id": "PbaPTZ6Ht324"
      },
      "source": [
        "def show_data_by_dates(data,column_name,\n",
        "                       left = datetime.date(2019, 1, 1),\n",
        "                       right = datetime.date(2019, 2, 1)):\n",
        "  group = data[[column_name,'day_date']].groupby(by = ['day_date']).sum()\n",
        "  x = group.index\n",
        "  y = group[column_name]\n",
        "  fig, ax = plt.subplots()\n",
        "  ax.plot_date(x, y,'b-')\n",
        "  fig.autofmt_xdate()\n",
        "  ax.set_xlim([left, right])"
      ],
      "execution_count": 3,
      "outputs": []
    },
    {
      "cell_type": "code",
      "metadata": {
        "id": "yCh9pisGy6nP"
      },
      "source": [
        "def plot_timeseries(df, station, start_date, end_date):\n",
        "    fig, ax = plt.subplots(figsize=(20,8))\n",
        "    st_df = df[df.zone == station][['date', 'total']]\n",
        "    st_df = st_df.loc[(st_df.date >= pd.to_datetime(start_date)) & (st_df.date <= pd.to_datetime(end_date))]\n",
        "    ax.plot(st_df.date, st_df.total, '.--')\n",
        "    ax.set_title(station)\n",
        "    plt.show();"
      ],
      "execution_count": 4,
      "outputs": []
    },
    {
      "cell_type": "code",
      "metadata": {
        "id": "4zQval7_lAqN"
      },
      "source": [
        "#change data\n",
        "data['total'] = data.iloc[:, 2:].sum(axis=1)\n",
        "data['date'] = pd.to_datetime(data['date'])\n",
        "data['year'] = data['date'].apply(lambda x: x.year)\n",
        "data['day'] = data['date'].apply(lambda x: x.day)\n",
        "data['hour'] = data['date'].apply(lambda x: x.hour)\n",
        "data['day_date'] = data['date'].apply(lambda x: x.date())\n",
        "data['day_date'] = pd.to_datetime(data['day_date'])\n",
        "data['day_name'] = data['date'].apply(lambda x: x.day_name())\n",
        "data['day_year'] = data['date'].apply(lambda x: x.dayofyear)                                  \n"
      ],
      "execution_count": 17,
      "outputs": []
    },
    {
      "cell_type": "code",
      "metadata": {
        "id": "DOR-X6PO-pPW"
      },
      "source": [
        "stations = data['zone'].unique()"
      ],
      "execution_count": 6,
      "outputs": []
    },
    {
      "cell_type": "code",
      "metadata": {
        "id": "JXmJSnr9FJjF"
      },
      "source": [
        "#plot_timeseries(data, stations[0], '20190105', '20190107')"
      ],
      "execution_count": null,
      "outputs": []
    },
    {
      "cell_type": "code",
      "metadata": {
        "id": "PVip9mwyJtXL"
      },
      "source": [
        "def add_lag(df,column_name,lag_length):\n",
        "  for lag in range(1,lag_length+1):\n",
        "    df[column_name+'_'+str(lag)] = df[column_name].shift(lag)\n",
        "  return df\n",
        "\n",
        "#amount - количество дней/часов в году..\n",
        "def encode_time(df, column_name, amount):\n",
        "  df[column_name+'_s'] = df[column_name].apply(lambda x: np.sin((2*np.pi)/amount*x))\n",
        "  df[column_name+'_c'] = df[column_name].apply(lambda x: np.cos((2*np.pi)/amount*x))\n",
        "  return df\n",
        "\n",
        "def moving_average(df, column_name, moving_length):\n",
        "  df[column_name+'_ma_'+str(moving_length)] = df[column_name].rolling(window=moving_length).mean().shift(1)\n",
        "  return df\n",
        "\n",
        "def gaussian_average(df, column_name, moving_length):\n",
        "  df[column_name+'_ga_'+str(moving_length)] = df[column_name].rolling(window=5, win_type='gaussian').mean(std=0.5).shift(1)\n",
        "  return df\n",
        "\n",
        "def exp_average(df, column_name):\n",
        "  df[column_name+'_ea_'] = df[column_name].ewm(com=0.5).mean().shift(1)\n",
        "  return df\n",
        "\n",
        "def day_off(day):\n",
        "  if day in ['Sunday','Saturday']:\n",
        "    return 1\n",
        "  else:\n",
        "    return 0\n",
        "\n",
        "def salary_day(day):\n",
        "  if ((day>24) or (day<6)):\n",
        "    return 1\n",
        "  else:\n",
        "    return 0"
      ],
      "execution_count": 18,
      "outputs": []
    },
    {
      "cell_type": "code",
      "metadata": {
        "id": "pRof3TNR8YHP"
      },
      "source": [
        "data"
      ],
      "execution_count": null,
      "outputs": []
    },
    {
      "cell_type": "code",
      "metadata": {
        "id": "ApJDZ_XjImL9"
      },
      "source": [
        "column_name = 'Перевозка плановая'\n",
        "station = stations[0]\n",
        "train_df = data[['date','year','day_year','day','hour','zone','day_name',column_name]].query('zone == @station')"
      ],
      "execution_count": 106,
      "outputs": []
    },
    {
      "cell_type": "markdown",
      "metadata": {
        "id": "8b4I3gShuUro"
      },
      "source": [
        "# Preprocessing"
      ]
    },
    {
      "cell_type": "code",
      "metadata": {
        "id": "rA1E9pWqPQzA"
      },
      "source": [
        "moving_length = [6,12,24,48]\n",
        "moving_column_names = []\n",
        "\n",
        "train_df = encode_time(train_df,'hour',24)\n",
        "train_df = encode_time(train_df,'day',30)\n",
        "train_df = encode_time(train_df,'day_year',365)\n",
        "\n",
        "train_df = pd.concat([train_df,pd.get_dummies(train_df['year'])],axis=1)\n",
        "train_df = pd.concat([train_df,pd.get_dummies(train_df['day_name'])],axis=1)\n",
        "train_df['day_off'] = train_df['day_name'].apply(day_off)\n",
        "train_df['salary_day'] = train_df['day'].apply(salary_day)\n",
        "\n",
        "for i in moving_length:\n",
        "  train_df = moving_average(train_df, column_name, i)\n",
        "  moving_column_names.append(column_name+'_ma_'+str(i))\n",
        "for i in moving_length:\n",
        "  train_df = gaussian_average(train_df, column_name, i)\n",
        "  moving_column_names.append(column_name+'_ga_'+str(i))\n",
        "train_df = exp_average(train_df, column_name)\n",
        "moving_column_names.append(column_name+'_ea_')\n",
        "moving_column_names.append(column_name)"
      ],
      "execution_count": 107,
      "outputs": []
    },
    {
      "cell_type": "code",
      "metadata": {
        "id": "KM0vIBbboCPf"
      },
      "source": [
        "#Дифференциал для таргета + average\n",
        "for diff_feature in moving_column_names:\n",
        "  train_df[diff_feature+'_diff'] = train_df[diff_feature].diff().shift(1)\n",
        "\n",
        "#Лаги для таргета + average\n",
        "for lag_feature in moving_column_names:\n",
        "  train_df = add_lag(train_df,lag_feature,100)\n",
        "\n",
        "additional_lag_columns = ['salary_day','day_off']\n",
        "for lag_feature in additional_lag_columns:\n",
        "  train_df = add_lag(train_df,lag_feature,3)\n",
        "\n",
        "\n"
      ],
      "execution_count": 108,
      "outputs": []
    },
    {
      "cell_type": "code",
      "metadata": {
        "id": "8NPgK89-mfwS"
      },
      "source": [
        "train_df = train_df.dropna()\n",
        "train_df = train_df.drop(columns = ['date','year','day_year','day','hour','zone','day_name'])"
      ],
      "execution_count": 109,
      "outputs": []
    },
    {
      "cell_type": "code",
      "metadata": {
        "colab": {
          "base_uri": "https://localhost:8080/"
        },
        "id": "E2eG6VZhtLvq",
        "outputId": "fc5d9c8a-a6c8-4668-eb87-f233e22f3e6a"
      },
      "source": [
        "#Проверка\n",
        "dts = []\n",
        "for column in train_df.columns:\n",
        "  dts.append(train_df[column].dtype)\n",
        "pd.Series(dts).value_counts()"
      ],
      "execution_count": 110,
      "outputs": [
        {
          "output_type": "execute_result",
          "data": {
            "text/plain": [
              "float64    1031\n",
              "uint8         9\n",
              "int64         3\n",
              "dtype: int64"
            ]
          },
          "metadata": {
            "tags": []
          },
          "execution_count": 110
        }
      ]
    },
    {
      "cell_type": "code",
      "metadata": {
        "id": "UYCblYWW81AI"
      },
      "source": [
        "def preprocessing(train_df, column_name):\n",
        "  moving_length = [6,12,24,48]\n",
        "  moving_column_names = []\n",
        "\n",
        "  train_df = encode_time(train_df,'hour',24)\n",
        "  train_df = encode_time(train_df,'day',30)\n",
        "  train_df = encode_time(train_df,'day_year',365)\n",
        "\n",
        "  train_df = pd.concat([train_df,pd.get_dummies(train_df['year'])],axis=1)\n",
        "  train_df = pd.concat([train_df,pd.get_dummies(train_df['day_name'])],axis=1)\n",
        "  train_df['day_off'] = train_df['day_name'].apply(day_off)\n",
        "  train_df['salary_day'] = train_df['day'].apply(salary_day)\n",
        "\n",
        "  for i in moving_length:\n",
        "    train_df = moving_average(train_df, column_name, i)\n",
        "    moving_column_names.append(column_name+'_ma_'+str(i))\n",
        "  for i in moving_length:\n",
        "    train_df = gaussian_average(train_df, column_name, i)\n",
        "    moving_column_names.append(column_name+'_ga_'+str(i))\n",
        "  train_df = exp_average(train_df, column_name)\n",
        "  moving_column_names.append(column_name+'_ea_')\n",
        "  moving_column_names.append(column_name)\n",
        "\n",
        "  #Дифференциал для таргета + average\n",
        "  for diff_feature in moving_column_names:\n",
        "    train_df[diff_feature+'_diff'] = train_df[diff_feature].diff().shift(1)\n",
        "\n",
        "  #Лаги для таргета + average\n",
        "  for lag_feature in moving_column_names:\n",
        "    train_df = add_lag(train_df,lag_feature,100)\n",
        "\n",
        "  additional_lag_columns = ['salary_day','day_off']\n",
        "  for lag_feature in additional_lag_columns:\n",
        "    train_df = add_lag(train_df,lag_feature,3)\n",
        "\n",
        "  train_df = train_df.dropna()\n",
        "  train_df = train_df.drop(columns = ['date','year','day_year','day','hour','zone','day_name'])\n",
        "\n",
        "  return train_df"
      ],
      "execution_count": 123,
      "outputs": []
    },
    {
      "cell_type": "markdown",
      "metadata": {
        "id": "GUcl52qxt3Df"
      },
      "source": [
        "# LinReg"
      ]
    },
    {
      "cell_type": "code",
      "metadata": {
        "id": "-Omp3uuffCZR"
      },
      "source": [
        "import sklearn\n",
        "from tqdm import tqdm\n",
        "from sklearn.model_selection import TimeSeriesSplit\n",
        "from sklearn.linear_model import LinearRegression\n",
        "from sklearn.linear_model import Ridge\n",
        "from sklearn.metrics import mean_absolute_error"
      ],
      "execution_count": 118,
      "outputs": []
    },
    {
      "cell_type": "code",
      "metadata": {
        "id": "tjESKHRbuzcQ"
      },
      "source": [
        "train_df = train_df.reset_index()\n",
        "train_df = train_df.drop(columns = ['index'])\n",
        "X = train_df.drop(columns = [column_name])\n",
        "Y = train_df[column_name]"
      ],
      "execution_count": 112,
      "outputs": []
    },
    {
      "cell_type": "code",
      "metadata": {
        "id": "Z2j_50UUAoCo"
      },
      "source": [
        "data"
      ],
      "execution_count": null,
      "outputs": []
    },
    {
      "cell_type": "code",
      "metadata": {
        "colab": {
          "base_uri": "https://localhost:8080/"
        },
        "id": "Yj8Z1sqMu5Ty",
        "outputId": "4bee295f-206f-4028-f50c-4c00a03c14c3"
      },
      "source": [
        "columns_to_test = ['Перевозка плановая']#,'Вызов специальной бригады','Перевозка экстренная']\n",
        "stations_to_test = stations[0:3]\n",
        "\n",
        "for column_name in tqdm(columns_to_test):\n",
        "  for station in stations_to_test:\n",
        "    train_df = data[['date','year','day_year','day','hour','zone','day_name',column_name]].query('zone == @station')\n",
        "    train_df = preprocessing(train_df,column_name)\n",
        "\n",
        "    train_df = train_df.reset_index()\n",
        "    train_df = train_df.drop(columns = ['index'])\n",
        "    X = train_df.drop(columns = [column_name])\n",
        "    Y = train_df[column_name]\n",
        "\n",
        "    lr_rmse_list = np.array([])\n",
        "    tscv = TimeSeriesSplit()\n",
        "    for train_index, test_index in tscv.split(X):\n",
        "      X_train, X_test = X.loc[train_index], X.loc[test_index]\n",
        "      y_train, y_test = Y.loc[train_index], Y.loc[test_index]\n",
        "      \n",
        "      # ТУТ УЧИМ И ТЕСТИМ\n",
        "      #lr_model = LinearRegression()\n",
        "      lr_model = Ridge(alpha=1.0)\n",
        "      lr_model.fit(X_train,y_train)\n",
        "      \n",
        "      predicted = lr_model.predict(X_test).round()\n",
        "      lr_rmse = mean_absolute_error(y_test,predicted)\n",
        "      lr_rmse_list = np.append(lr_rmse_list,lr_rmse)\n",
        "      \n",
        "      #print('MAE = %.2f' % lr_rmse)\n",
        "    print('\\n',pd.Series(predicted).value_counts())\n",
        "    print(lr_rmse_list)\n",
        "    print('MAE ', column_name,' ', station,' - ', lr_rmse_list.mean())\n",
        "    print('All 0', mean_absolute_error(y_test,np.zeros(len(y_test))),'\\n')"
      ],
      "execution_count": 141,
      "outputs": [
        {
          "output_type": "stream",
          "text": [
            "\r  0%|                                                                                            | 0/1 [00:00<?, ?it/s]"
          ],
          "name": "stderr"
        },
        {
          "output_type": "stream",
          "text": [
            "\n",
            " 1.0    973\n",
            "3.0    766\n",
            "2.0    698\n",
            "4.0    279\n",
            "0.0    171\n",
            "5.0     11\n",
            "dtype: int64\n",
            "[0.64182195 0.63940649 0.6252588  1.45169082 1.20324362]\n",
            "MAE  Перевозка плановая   П/станция 1  -  0.9122843340234645\n",
            "All 0 2.067287784679089 \n",
            "\n",
            "\n",
            " 1.0    1724\n",
            "2.0     775\n",
            "0.0     383\n",
            "3.0      16\n",
            "dtype: int64\n",
            "[0.27881297 0.30745342 0.37543133 0.7605245  1.08454106]\n",
            "MAE  Перевозка плановая   П/станция 2  -  0.561352657004831\n",
            "All 0 1.279848171152519 \n",
            "\n"
          ],
          "name": "stdout"
        },
        {
          "output_type": "stream",
          "text": [
            "100%|████████████████████████████████████████████████████████████████████████████████████| 1/1 [00:08<00:00,  8.31s/it]"
          ],
          "name": "stderr"
        },
        {
          "output_type": "stream",
          "text": [
            "\n",
            " 1.0    1830\n",
            "0.0     974\n",
            "2.0      94\n",
            "dtype: int64\n",
            "[0.45134576 0.48619738 0.5010352  0.63871636 0.71635611]\n",
            "MAE  Перевозка плановая   П/станция 3  -  0.5587301587301587\n",
            "All 0 0.8026224982746721 \n",
            "\n"
          ],
          "name": "stdout"
        },
        {
          "output_type": "stream",
          "text": [
            "\n"
          ],
          "name": "stderr"
        }
      ]
    }
  ]
}