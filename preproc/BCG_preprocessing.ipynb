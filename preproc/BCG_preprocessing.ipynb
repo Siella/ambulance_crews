{
  "nbformat": 4,
  "nbformat_minor": 0,
  "metadata": {
    "colab": {
      "name": "BCG_preprocessing.ipynb",
      "provenance": [],
      "collapsed_sections": []
    },
    "kernelspec": {
      "name": "python3",
      "display_name": "Python 3"
    },
    "language_info": {
      "name": "python"
    }
  },
  "cells": [
    {
      "cell_type": "code",
      "metadata": {
        "id": "A2vET0v1b86Y"
      },
      "source": [
        "import pandas as pd\n",
        "import numpy as np\n",
        "import matplotlib.pyplot as plt \n",
        "import datetime\n",
        "from sklearn.preprocessing import LabelEncoder\n",
        "\n",
        "plt.rcParams[\"figure.figsize\"] = (20,10)"
      ],
      "execution_count": 327,
      "outputs": []
    },
    {
      "cell_type": "code",
      "metadata": {
        "id": "PPeQU84YdZ5D"
      },
      "source": [
        "data = pd.read_csv('icl_train.csv')"
      ],
      "execution_count": 198,
      "outputs": []
    },
    {
      "cell_type": "code",
      "metadata": {
        "id": "PbaPTZ6Ht324"
      },
      "source": [
        "def show_data_by_dates(data,column_name,\n",
        "                       left = datetime.date(2019, 1, 1),\n",
        "                       right = datetime.date(2019, 2, 1)):\n",
        "  group = data[[column_name,'day_date']].groupby(by = ['day_date']).sum()\n",
        "  x = group.index\n",
        "  y = group[column_name]\n",
        "  fig, ax = plt.subplots()\n",
        "  ax.plot_date(x, y,'b-')\n",
        "  fig.autofmt_xdate()\n",
        "  ax.set_xlim([left, right])"
      ],
      "execution_count": 3,
      "outputs": []
    },
    {
      "cell_type": "code",
      "metadata": {
        "id": "yCh9pisGy6nP"
      },
      "source": [
        "def plot_timeseries(df, station, start_date, end_date):\n",
        "    fig, ax = plt.subplots(figsize=(20,8))\n",
        "    st_df = df[df.zone == station][['date', 'total']]\n",
        "    st_df = st_df.loc[(st_df.date >= pd.to_datetime(start_date)) & (st_df.date <= pd.to_datetime(end_date))]\n",
        "    ax.plot(st_df.date, st_df.total, '.--')\n",
        "    ax.set_title(station)\n",
        "    plt.show();"
      ],
      "execution_count": 4,
      "outputs": []
    },
    {
      "cell_type": "code",
      "metadata": {
        "id": "4zQval7_lAqN"
      },
      "source": [
        "#change data\n",
        "#data['total'] = data.iloc[:, 2:].sum(axis=1)\n",
        "data['date'] = pd.to_datetime(data['date'])\n",
        "data['year'] = data['date'].apply(lambda x: x.year)\n",
        "data['day'] = data['date'].apply(lambda x: x.day)\n",
        "data['hour'] = data['date'].apply(lambda x: x.hour)\n",
        "data['day_date'] = data['date'].apply(lambda x: x.date())\n",
        "data['day_date'] = pd.to_datetime(data['day_date'])\n",
        "data['day_name'] = data['date'].apply(lambda x: x.day_name())\n",
        "data['day_year'] = data['date'].apply(lambda x: x.dayofyear)                                  \n"
      ],
      "execution_count": 199,
      "outputs": []
    },
    {
      "cell_type": "code",
      "metadata": {
        "id": "DOR-X6PO-pPW"
      },
      "source": [
        "stations = data['zone'].unique()"
      ],
      "execution_count": 88,
      "outputs": []
    },
    {
      "cell_type": "code",
      "metadata": {
        "id": "JXmJSnr9FJjF"
      },
      "source": [
        "#plot_timeseries(data, stations[0], '20190105', '20190107')"
      ],
      "execution_count": null,
      "outputs": []
    },
    {
      "cell_type": "code",
      "metadata": {
        "id": "PVip9mwyJtXL"
      },
      "source": [
        "def add_lag(df,column_name,lag_length):\n",
        "  for lag in range(1,lag_length+1):\n",
        "    df[column_name+'_'+str(lag)] = df[column_name].shift(lag)\n",
        "  return df\n",
        "\n",
        "#amount - количество дней/часов в году..\n",
        "def encode_time(df, column_name, amount):\n",
        "  df[column_name+'_s'] = df[column_name].apply(lambda x: np.sin((2*np.pi)/amount*x))\n",
        "  df[column_name+'_c'] = df[column_name].apply(lambda x: np.cos((2*np.pi)/amount*x))\n",
        "  return df\n",
        "\n",
        "def moving_average(df, column_name, moving_length):\n",
        "  df[column_name+'_ma_'+str(moving_length)] = df[column_name].rolling(window=moving_length).mean().shift(1)\n",
        "  return df\n",
        "\n",
        "def gaussian_average(df, column_name, moving_length):\n",
        "  df[column_name+'_ga_'+str(moving_length)] = df[column_name].rolling(window=moving_length, win_type='gaussian').mean(std=0.5).shift(1)\n",
        "  return df\n",
        "\n",
        "def exp_average(df, column_name):\n",
        "  df[column_name+'_ea_'] = df[column_name].ewm(com=0.5).mean().shift(1)\n",
        "  return df\n",
        "\n",
        "def day_off(day):\n",
        "  if day in ['Sunday','Saturday']:\n",
        "    return 1\n",
        "  else:\n",
        "    return 0\n",
        "\n",
        "def salary_day(day):\n",
        "  if ((day>24) or (day<6)):\n",
        "    return 1\n",
        "  else:\n",
        "    return 0"
      ],
      "execution_count": 166,
      "outputs": []
    },
    {
      "cell_type": "markdown",
      "metadata": {
        "id": "MOkU7d5HG1tV"
      },
      "source": [
        "# Add_data"
      ]
    },
    {
      "cell_type": "code",
      "metadata": {
        "id": "Mbr7BBf5IqSB"
      },
      "source": [
        "data_weather = pd.read_csv('weather_prepared_interpolated.csv', encoding='1251', sep = ',')\n",
        "data_weather = pd.concat([data_weather,pd.get_dummies(data_weather['weather'])],axis=1)\n",
        "data_weather = data_weather.drop(columns = ['weather'])\n",
        "data_weather['date'] = pd.to_datetime(data_weather['Unnamed: 0'])\n",
        "weather_columns = ['temp', 'w_spid', 'p', 'малооблачно', 'облачно',\n",
        "       'пасмурно', 'ясно']\n",
        "#data_weather = data_weather.set_index('Unnamed: 0')\n",
        "\n",
        "#data = data.set_index('date')\n",
        "#data = data.join(data_weather, lsuffix='', rsuffix='',how = 'left')\n",
        "data = pd.merge(data, data_weather,  how='left', left_on=['date'], right_on = ['date'])"
      ],
      "execution_count": 201,
      "outputs": []
    },
    {
      "cell_type": "code",
      "metadata": {
        "id": "dDZtsXvjG4zd"
      },
      "source": [
        "data_covid = pd.read_csv('covid_tatarstan.csv', encoding='1251', sep = ';')\n",
        "data_covid['DateTime'] = pd.to_datetime(data_covid['DateTime'])\n",
        "covid_columns = ['Заражений за день']\n",
        "data_covid['day_date'] = data_covid['DateTime']\n",
        "data_covid = data_covid.drop(columns = ['DateTime'])\n",
        "\n",
        "data = pd.merge(data, data_covid,  how='left', left_on=['day_date'], right_on = ['day_date'])"
      ],
      "execution_count": 202,
      "outputs": []
    },
    {
      "cell_type": "code",
      "metadata": {
        "id": "4U7Eg3L3QpLA"
      },
      "source": [
        "data = data.fillna(0)"
      ],
      "execution_count": 203,
      "outputs": []
    },
    {
      "cell_type": "markdown",
      "metadata": {
        "id": "8b4I3gShuUro"
      },
      "source": [
        "# Preprocessing"
      ]
    },
    {
      "cell_type": "code",
      "metadata": {
        "id": "hy3XSDc-PRmE"
      },
      "source": [
        "#time_columns = ['date','year','day_year','day','hour','zone','day_name','Перевозка плановая']\n",
        "#train_df = data[time_columns+weather_columns+covid_columns].query('zone == @stations[0]')"
      ],
      "execution_count": 117,
      "outputs": []
    },
    {
      "cell_type": "code",
      "metadata": {
        "colab": {
          "base_uri": "https://localhost:8080/",
          "height": 0
        },
        "id": "8Aib-074QAKM",
        "outputId": "46b7f571-65cf-4c1e-b020-c058debb3772"
      },
      "source": [
        "#train_df.isnull().sum()"
      ],
      "execution_count": 118,
      "outputs": [
        {
          "output_type": "execute_result",
          "data": {
            "text/plain": [
              "date                  0\n",
              "year                  0\n",
              "day_year              0\n",
              "day                   0\n",
              "hour                  0\n",
              "zone                  0\n",
              "day_name              0\n",
              "Перевозка плановая    0\n",
              "temp                  0\n",
              "w_spid                0\n",
              "p                     0\n",
              "малооблачно           0\n",
              "облачно               0\n",
              "пасмурно              0\n",
              "ясно                  0\n",
              "Заражений за день     0\n",
              "dtype: int64"
            ]
          },
          "metadata": {
            "tags": []
          },
          "execution_count": 118
        }
      ]
    },
    {
      "cell_type": "code",
      "metadata": {
        "id": "UYCblYWW81AI"
      },
      "source": [
        "#day_name_unique = data['day_name'].unique()\n",
        "def preprocessing(train_df, column_name, lag_length = 100):\n",
        "  moving_length = [6,12,24,48]\n",
        "  moving_column_names = []\n",
        "\n",
        "  train_df = encode_time(train_df,'hour',24)\n",
        "  train_df = encode_time(train_df,'day',30)\n",
        "  train_df = encode_time(train_df,'day_year',365)\n",
        "\n",
        "  #train_df = pd.concat([train_df,pd.get_dummies(train_df['year'])],axis=1)\n",
        "  #не смог найти get_dummies с обучением\n",
        "  #train_df = pd.concat([train_df,pd.get_dummies(train_df['day_name'], columns = day_name_unique)],axis=1)\n",
        "  train_df['day_off'] = train_df['day_name'].apply(day_off)\n",
        "  train_df['salary_day'] = train_df['day'].apply(salary_day)\n",
        "\n",
        "  #Все фичи для которых можно сделать average + lag\n",
        "  for clmn in [column_name,'Заражений за день','temp','w_spid']:\n",
        "    for i in moving_length:\n",
        "      train_df = moving_average(train_df, clmn, i)\n",
        "      moving_column_names.append(clmn+'_ma_'+str(i))\n",
        "    #for i in moving_length:\n",
        "    #  train_df = gaussian_average(train_df, clmn, i)\n",
        "    #  moving_column_names.append(clmn+'_ga_'+str(i))\n",
        "    #train_df = exp_average(train_df, clmn)\n",
        "    #moving_column_names.append(clmn+'_ea_')\n",
        "    moving_column_names.append(clmn)\n",
        "\n",
        "  #Дифференциал\n",
        "  for diff_feature in moving_column_names:\n",
        "    train_df[diff_feature+'_diff'] = train_df[diff_feature].diff().shift(1)\n",
        "\n",
        "  #Лаги\n",
        "  for lag_feature in moving_column_names:\n",
        "    train_df = add_lag(train_df,lag_feature,lag_length)\n",
        "\n",
        "  additional_lag_columns = ['salary_day','day_off']\n",
        "  for lag_feature in additional_lag_columns:\n",
        "    train_df = add_lag(train_df,lag_feature,3)\n",
        "\n",
        "  train_df = train_df.dropna()\n",
        "  #train_df = train_df.drop(columns = ['date','year','day_year','day','hour','zone','day_name'])\n",
        "\n",
        "  return train_df"
      ],
      "execution_count": 334,
      "outputs": []
    },
    {
      "cell_type": "markdown",
      "metadata": {
        "id": "GUcl52qxt3Df"
      },
      "source": [
        "# LinReg"
      ]
    },
    {
      "cell_type": "code",
      "metadata": {
        "id": "-Omp3uuffCZR"
      },
      "source": [
        "import sklearn\n",
        "from tqdm import tqdm\n",
        "from sklearn.model_selection import TimeSeriesSplit\n",
        "from sklearn.linear_model import LinearRegression\n",
        "from sklearn.linear_model import Ridge\n",
        "from sklearn.metrics import mean_absolute_error"
      ],
      "execution_count": 121,
      "outputs": []
    },
    {
      "cell_type": "code",
      "metadata": {
        "id": "Z2j_50UUAoCo"
      },
      "source": [
        "time_columns = ['date','year','day_year','day','hour','zone','day_name','Перевозка плановая']"
      ],
      "execution_count": 13,
      "outputs": []
    },
    {
      "cell_type": "code",
      "metadata": {
        "id": "Yj8Z1sqMu5Ty"
      },
      "source": [
        "columns_to_test = ['Перевозка плановая','Вызов специальной бригады','Перевозка экстренная']\n",
        "stations_to_test = stations[0:3]\n",
        "time_columns = ['date','year','day_year','day','hour','zone','day_name']\n",
        "lag_length = 10\n",
        "\n",
        "final_mae = np.array([])\n",
        "\n",
        "for column_name in tqdm(columns_to_test):\n",
        "  for station in stations_to_test:\n",
        "    train_df = data[time_columns+weather_columns+covid_columns+[column_name]].query('zone == @station')\n",
        "    train_df = preprocessing(train_df,column_name, lag_length)\n",
        "\n",
        "    train_df = train_df.reset_index()\n",
        "    train_df = train_df.drop(columns = ['index'])\n",
        "    X = train_df.drop(columns = ['date','year','day_year','day','hour','zone','day_name', column_name])\n",
        "    Y = train_df[column_name]\n",
        "    \n",
        "    lr_rmse_list = np.array([])\n",
        "    tscv = TimeSeriesSplit()\n",
        "    for train_index, test_index in tscv.split(X):\n",
        "      X_train, X_test = X.loc[train_index], X.loc[test_index]\n",
        "      y_train, y_test = Y.loc[train_index], Y.loc[test_index]\n",
        "      \n",
        "      # ТУТ УЧИМ И ТЕСТИМ\n",
        "      #lr_model = LinearRegression()\n",
        "      lr_model = Ridge(alpha=0.7)\n",
        "      lr_model.fit(X_train,y_train)\n",
        "      \n",
        "      predicted = lr_model.predict(X_test).round()\n",
        "      lr_rmse = mean_absolute_error(y_test,predicted)\n",
        "      lr_rmse_list = np.append(lr_rmse_list,lr_rmse)\n",
        "      \n",
        "      #print('MAE = %.2f' % lr_rmse)\n",
        "    final_mae = np.append(final_mae,lr_rmse.mean())\n",
        "    print('\\n',pd.Series(predicted).value_counts())\n",
        "    print(lr_rmse_list)\n",
        "    print('MAE ', column_name,' ', station,' - ', lr_rmse_list.mean())\n",
        "    print('All 0', mean_absolute_error(y_test,np.zeros(len(y_test))),'\\n')\n",
        "\n",
        "print('*'*10+'\\n')\n",
        "print('MAE: ', final_mae.mean(),' lag: ', lag_length)"
      ],
      "execution_count": null,
      "outputs": []
    },
    {
      "cell_type": "markdown",
      "metadata": {
        "id": "mw6Vz_uQ7XwR"
      },
      "source": [
        "# Predict 1 step forward"
      ]
    },
    {
      "cell_type": "code",
      "metadata": {
        "id": "RXL0m5qmCHX2"
      },
      "source": [
        "from datetime import timedelta"
      ],
      "execution_count": 190,
      "outputs": []
    },
    {
      "cell_type": "code",
      "metadata": {
        "id": "3EdZo-VYYbQg"
      },
      "source": [
        "#data - конец временного ряда (датасета)\n",
        "cut = 100\n",
        "cut_df = data[time_columns+weather_columns+covid_columns+[column_name]].query('zone == @station').iloc[-cut:]\n",
        "\n",
        "\n",
        "def predict_1_step(cut_df, column_name, station, lag_length, model):\n",
        "  \n",
        "  columns_to_save = cut_df.columns\n",
        "  date = cut_df['date'].iloc[-1] + timedelta(minutes=60)\n",
        "  year = date.year\n",
        "  day_year = date.dayofyear\n",
        "  day = date.day\n",
        "  hour = date.hour\n",
        "  zone = station\n",
        "  day_name = date.day_name()\n",
        "  cut_weather = data_weather[data_weather['date'] == date][weather_columns].to_numpy()\n",
        "  cut_covid = data_covid[data_covid['day_date'] == pd.Timestamp.round(date,freq='d')][covid_columns].to_numpy()#.reshape(1,)\n",
        "  target = -1 #потом перезаписывается\n",
        "\n",
        "  new_row = np.array([date,year,day_year,day,hour,zone,day_name])\n",
        "  new_row = np.hstack((new_row,cut_weather.ravel(),cut_covid.ravel(),target))\n",
        "  cut_df.loc[len(cut_df)] = new_row\n",
        "\n",
        "  temp = preprocessing(cut_df, column_name, lag_length)\n",
        "\n",
        "  x = np.array(temp.drop(columns = ['date','year','day_year','day','hour','zone','day_name', column_name]).iloc[-1])\n",
        "  y_pred = model.predict(x.reshape(1,-1)).round()\n",
        "\n",
        "  cut_df = cut_df.replace(-1, y)\n",
        "\n",
        "  return cut_df[columns_to_save]"
      ],
      "execution_count": 474,
      "outputs": []
    },
    {
      "cell_type": "code",
      "metadata": {
        "colab": {
          "base_uri": "https://localhost:8080/",
          "height": 0
        },
        "id": "6YHfGZ4Berdo",
        "outputId": "7319cccf-4124-4d8c-9e15-5acddbd30463"
      },
      "source": [
        "for i in tqdm(range(90*24)):\n",
        "  cut_df = predict_1_step(cut_df, column_name, station, lag_length, lr_model)"
      ],
      "execution_count": 475,
      "outputs": [
        {
          "output_type": "stream",
          "text": [
            "100%|██████████████████████████████████████████████████████████████████████████████| 2160/2160 [07:23<00:00,  4.87it/s]\n"
          ],
          "name": "stderr"
        }
      ]
    },
    {
      "cell_type": "code",
      "metadata": {
        "colab": {
          "base_uri": "https://localhost:8080/",
          "height": 0
        },
        "id": "u1LoYr8Okl9C",
        "outputId": "f56b017c-4a04-4a51-8a2b-0d17e4695285"
      },
      "source": [
        "cut_df.isna().sum().sum()"
      ],
      "execution_count": 477,
      "outputs": [
        {
          "output_type": "execute_result",
          "data": {
            "text/plain": [
              "0"
            ]
          },
          "metadata": {
            "tags": []
          },
          "execution_count": 477
        }
      ]
    }
  ]
}