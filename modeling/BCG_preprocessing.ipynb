{
  "nbformat": 4,
  "nbformat_minor": 0,
  "metadata": {
    "colab": {
      "name": "BCG_preprocessing.ipynb",
      "provenance": [],
      "collapsed_sections": [
        "mw6Vz_uQ7XwR",
        "G6GXEcQmuuD-"
      ]
    },
    "kernelspec": {
      "name": "python3",
      "display_name": "Python 3"
    },
    "language_info": {
      "name": "python"
    }
  },
  "cells": [
    {
      "cell_type": "code",
      "metadata": {
        "id": "A2vET0v1b86Y"
      },
      "source": [
        "import pandas as pd\n",
        "import numpy as np\n",
        "import matplotlib.pyplot as plt \n",
        "import datetime\n",
        "from sklearn.preprocessing import LabelEncoder\n",
        "\n",
        "import sklearn\n",
        "from tqdm import tqdm\n",
        "from sklearn.model_selection import TimeSeriesSplit\n",
        "from sklearn.linear_model import LinearRegression\n",
        "from sklearn.linear_model import Ridge\n",
        "from sklearn.metrics import mean_absolute_error\n",
        "\n",
        "plt.rcParams[\"figure.figsize\"] = (20,10)"
      ],
      "execution_count": 327,
      "outputs": []
    },
    {
      "cell_type": "code",
      "metadata": {
        "id": "PPeQU84YdZ5D"
      },
      "source": [
        "data = pd.read_csv('icl_train.csv')"
      ],
      "execution_count": 598,
      "outputs": []
    },
    {
      "cell_type": "code",
      "metadata": {
        "id": "PbaPTZ6Ht324"
      },
      "source": [
        "def show_data_by_dates(data,column_name,\n",
        "                       left = datetime.date(2019, 1, 1),\n",
        "                       right = datetime.date(2019, 2, 1)):\n",
        "  group = data[[column_name,'day_date']].groupby(by = ['day_date']).sum()\n",
        "  x = group.index\n",
        "  y = group[column_name]\n",
        "  fig, ax = plt.subplots()\n",
        "  ax.plot_date(x, y,'b-')\n",
        "  fig.autofmt_xdate()\n",
        "  ax.set_xlim([left, right])"
      ],
      "execution_count": 3,
      "outputs": []
    },
    {
      "cell_type": "code",
      "metadata": {
        "id": "yCh9pisGy6nP"
      },
      "source": [
        "def plot_timeseries(df, station, start_date, end_date):\n",
        "    fig, ax = plt.subplots(figsize=(20,8))\n",
        "    st_df = df[df.zone == station][['date', 'total']]\n",
        "    st_df = st_df.loc[(st_df.date >= pd.to_datetime(start_date)) & (st_df.date <= pd.to_datetime(end_date))]\n",
        "    ax.plot(st_df.date, st_df.total, '.--')\n",
        "    ax.set_title(station)\n",
        "    plt.show();"
      ],
      "execution_count": 4,
      "outputs": []
    },
    {
      "cell_type": "code",
      "metadata": {
        "id": "4zQval7_lAqN"
      },
      "source": [
        "#change data\n",
        "data['total'] = data.iloc[:, 2:].sum(axis=1)\n",
        "data['date'] = pd.to_datetime(data['date'])\n",
        "data['year'] = data['date'].apply(lambda x: x.year)\n",
        "data['day'] = data['date'].apply(lambda x: x.day)\n",
        "data['hour'] = data['date'].apply(lambda x: x.hour)\n",
        "data['day_date'] = data['date'].apply(lambda x: x.date())\n",
        "data['day_date'] = pd.to_datetime(data['day_date'])\n",
        "data['day_name'] = data['date'].apply(lambda x: x.day_name())\n",
        "data['day_year'] = data['date'].apply(lambda x: x.dayofyear)                                  \n"
      ],
      "execution_count": 599,
      "outputs": []
    },
    {
      "cell_type": "code",
      "metadata": {
        "id": "DOR-X6PO-pPW"
      },
      "source": [
        "stations = data['zone'].unique()"
      ],
      "execution_count": 600,
      "outputs": []
    },
    {
      "cell_type": "code",
      "metadata": {
        "id": "JXmJSnr9FJjF"
      },
      "source": [
        "#plot_timeseries(data, stations[0], '20190105', '20190107')"
      ],
      "execution_count": null,
      "outputs": []
    },
    {
      "cell_type": "code",
      "metadata": {
        "id": "PVip9mwyJtXL"
      },
      "source": [
        "def add_lag(df,column_name,lag_length):\n",
        "  for lag in range(1,lag_length+1):\n",
        "    df[column_name+'_'+str(lag)] = df[column_name].shift(lag)\n",
        "  return df\n",
        "\n",
        "#amount - количество дней/часов в году..\n",
        "def encode_time(df, column_name, amount):\n",
        "  df[column_name+'_s'] = df[column_name].apply(lambda x: np.sin((2*np.pi)/amount*x))\n",
        "  df[column_name+'_c'] = df[column_name].apply(lambda x: np.cos((2*np.pi)/amount*x))\n",
        "  return df\n",
        "\n",
        "def moving_average(df, column_name, moving_length):\n",
        "  df[column_name+'_ma_'+str(moving_length)] = df[column_name].rolling(window=moving_length).mean().shift(1)\n",
        "  return df\n",
        "\n",
        "def gaussian_average(df, column_name, moving_length):\n",
        "  df[column_name+'_ga_'+str(moving_length)] = df[column_name].rolling(window=moving_length, win_type='gaussian').mean(std=0.5).shift(1)\n",
        "  return df\n",
        "\n",
        "def exp_average(df, column_name):\n",
        "  df[column_name+'_ea_'] = df[column_name].ewm(com=0.5).mean().shift(1)\n",
        "  return df\n",
        "\n",
        "def day_off(day):\n",
        "  if day in ['Sunday','Saturday']:\n",
        "    return 1\n",
        "  else:\n",
        "    return 0\n",
        "\n",
        "def salary_day(day):\n",
        "  if ((day>24) or (day<6)):\n",
        "    return 1\n",
        "  else:\n",
        "    return 0"
      ],
      "execution_count": 166,
      "outputs": []
    },
    {
      "cell_type": "markdown",
      "metadata": {
        "id": "MOkU7d5HG1tV"
      },
      "source": [
        "# Add_data"
      ]
    },
    {
      "cell_type": "code",
      "metadata": {
        "id": "Mbr7BBf5IqSB"
      },
      "source": [
        "data_weather = pd.read_csv('weather_prepared_interpolated.csv', encoding='1251', sep = ',')\n",
        "data_weather = pd.concat([data_weather,pd.get_dummies(data_weather['weather'])],axis=1)\n",
        "data_weather = data_weather.drop(columns = ['weather'])\n",
        "data_weather['date'] = pd.to_datetime(data_weather['Unnamed: 0'])\n",
        "weather_columns = ['temp', 'w_spid', 'p', 'малооблачно', 'облачно',\n",
        "       'пасмурно', 'ясно']\n",
        "#data_weather = data_weather.set_index('Unnamed: 0')\n",
        "\n",
        "#data = data.set_index('date')\n",
        "#data = data.join(data_weather, lsuffix='', rsuffix='',how = 'left')\n",
        "data = pd.merge(data, data_weather,  how='left', left_on=['date'], right_on = ['date'])"
      ],
      "execution_count": 601,
      "outputs": []
    },
    {
      "cell_type": "code",
      "metadata": {
        "id": "dDZtsXvjG4zd"
      },
      "source": [
        "data_covid = pd.read_csv('covid_tatarstan.csv', encoding='1251', sep = ';')\n",
        "data_covid['DateTime'] = pd.to_datetime(data_covid['DateTime'])\n",
        "covid_columns = ['Заражений за день']\n",
        "data_covid['day_date'] = data_covid['DateTime']\n",
        "data_covid = data_covid.drop(columns = ['DateTime'])\n",
        "\n",
        "data = pd.merge(data, data_covid,  how='left', left_on=['day_date'], right_on = ['day_date'])"
      ],
      "execution_count": 602,
      "outputs": []
    },
    {
      "cell_type": "code",
      "metadata": {
        "id": "4U7Eg3L3QpLA"
      },
      "source": [
        "data = data.fillna(0)"
      ],
      "execution_count": 603,
      "outputs": []
    },
    {
      "cell_type": "markdown",
      "metadata": {
        "id": "8b4I3gShuUro"
      },
      "source": [
        "# Preprocessing"
      ]
    },
    {
      "cell_type": "code",
      "metadata": {
        "id": "hy3XSDc-PRmE"
      },
      "source": [
        "#time_columns = ['date','year','day_year','day','hour','zone','day_name','Перевозка плановая']\n",
        "#train_df = data[time_columns+weather_columns+covid_columns].query('zone == @stations[0]')"
      ],
      "execution_count": 117,
      "outputs": []
    },
    {
      "cell_type": "code",
      "metadata": {
        "colab": {
          "base_uri": "https://localhost:8080/",
          "height": 0
        },
        "id": "8Aib-074QAKM",
        "outputId": "46b7f571-65cf-4c1e-b020-c058debb3772"
      },
      "source": [
        "#train_df.isnull().sum()"
      ],
      "execution_count": 118,
      "outputs": [
        {
          "output_type": "execute_result",
          "data": {
            "text/plain": [
              "date                  0\n",
              "year                  0\n",
              "day_year              0\n",
              "day                   0\n",
              "hour                  0\n",
              "zone                  0\n",
              "day_name              0\n",
              "Перевозка плановая    0\n",
              "temp                  0\n",
              "w_spid                0\n",
              "p                     0\n",
              "малооблачно           0\n",
              "облачно               0\n",
              "пасмурно              0\n",
              "ясно                  0\n",
              "Заражений за день     0\n",
              "dtype: int64"
            ]
          },
          "metadata": {
            "tags": []
          },
          "execution_count": 118
        }
      ]
    },
    {
      "cell_type": "code",
      "metadata": {
        "id": "UYCblYWW81AI"
      },
      "source": [
        "#day_name_unique = data['day_name'].unique()\n",
        "def preprocessing(train_df, column_name, lag_length = 100):\n",
        "  moving_length = [6]\n",
        "  moving_column_names = []\n",
        "\n",
        "  train_df = encode_time(train_df,'hour',24)\n",
        "  train_df = encode_time(train_df,'day',30)\n",
        "  train_df = encode_time(train_df,'day_year',365)\n",
        "\n",
        "  #train_df = pd.concat([train_df,pd.get_dummies(train_df['year'])],axis=1)\n",
        "  #не смог найти get_dummies с обучением\n",
        "  #train_df = pd.concat([train_df,pd.get_dummies(train_df['day_name'], columns = day_name_unique)],axis=1)\n",
        "  train_df['day_off'] = train_df['day_name'].apply(day_off)\n",
        "  train_df['salary_day'] = train_df['day'].apply(salary_day)\n",
        "\n",
        "  #Все фичи для которых можно сделать average + lag\n",
        "  for clmn in [column_name,'Заражений за день','temp','w_spid']:\n",
        "    for i in moving_length:\n",
        "      train_df = moving_average(train_df, clmn, i)\n",
        "      moving_column_names.append(clmn+'_ma_'+str(i))\n",
        "    #for i in moving_length:\n",
        "    #  train_df = gaussian_average(train_df, clmn, i)\n",
        "    #  moving_column_names.append(clmn+'_ga_'+str(i))\n",
        "    #train_df = exp_average(train_df, clmn)\n",
        "    #moving_column_names.append(clmn+'_ea_')\n",
        "    moving_column_names.append(clmn)\n",
        "\n",
        "  #Дифференциал\n",
        "  for diff_feature in moving_column_names:\n",
        "    train_df[diff_feature+'_diff'] = train_df[diff_feature].diff().shift(1)\n",
        "\n",
        "  #Лаги\n",
        "  for lag_feature in moving_column_names:\n",
        "    train_df = add_lag(train_df,lag_feature,lag_length)\n",
        "\n",
        "  additional_lag_columns = ['salary_day','day_off']\n",
        "  for lag_feature in additional_lag_columns:\n",
        "    train_df = add_lag(train_df,lag_feature,3)\n",
        "\n",
        "  train_df = train_df.dropna()\n",
        "  #train_df = train_df.drop(columns = ['date','year','day_year','day','hour','zone','day_name'])\n",
        "\n",
        "  return train_df"
      ],
      "execution_count": 500,
      "outputs": []
    },
    {
      "cell_type": "markdown",
      "metadata": {
        "id": "GUcl52qxt3Df"
      },
      "source": [
        "# LinReg (не юзать)"
      ]
    },
    {
      "cell_type": "code",
      "metadata": {
        "id": "Yj8Z1sqMu5Ty"
      },
      "source": [
        "columns_to_test = ['Перевозка плановая','Вызов специальной бригады','Перевозка экстренная']\n",
        "stations_to_test = stations[0:3]\n",
        "time_columns = ['date','year','day_year','day','hour','zone','day_name']\n",
        "lag_length = 10\n",
        "\n",
        "final_mae = np.array([])\n",
        "\n",
        "for column_name in tqdm(columns_to_test):\n",
        "  for station in stations_to_test:\n",
        "    train_df = data[time_columns+weather_columns+covid_columns+[column_name]].query('zone == @station')\n",
        "    train_df = preprocessing(train_df,column_name, lag_length)\n",
        "\n",
        "    train_df = train_df.reset_index()\n",
        "    train_df = train_df.drop(columns = ['index'])\n",
        "    X = train_df.drop(columns = ['date','year','day_year','day','hour','zone','day_name', column_name])\n",
        "    Y = train_df[column_name]\n",
        "    \n",
        "    lr_rmse_list = np.array([])\n",
        "    tscv = TimeSeriesSplit()\n",
        "    for train_index, test_index in tscv.split(X):\n",
        "      X_train, X_test = X.loc[train_index], X.loc[test_index]\n",
        "      y_train, y_test = Y.loc[train_index], Y.loc[test_index]\n",
        "      \n",
        "      # ТУТ УЧИМ И ТЕСТИМ\n",
        "      #lr_model = LinearRegression()\n",
        "      lr_model = Ridge(alpha=0.7)\n",
        "      lr_model.fit(X_train,y_train)\n",
        "      \n",
        "      predicted = lr_model.predict(X_test).round()\n",
        "      lr_rmse = mean_absolute_error(y_test,predicted)\n",
        "      lr_rmse_list = np.append(lr_rmse_list,lr_rmse)\n",
        "      \n",
        "      #print('MAE = %.2f' % lr_rmse)\n",
        "    final_mae = np.append(final_mae,lr_rmse.mean())\n",
        "    print('\\n',pd.Series(predicted).value_counts())\n",
        "    print(lr_rmse_list)\n",
        "    print('MAE ', column_name,' ', station,' - ', lr_rmse_list.mean())\n",
        "    print('All 0', mean_absolute_error(y_test,np.zeros(len(y_test))),'\\n')\n",
        "\n",
        "print('*'*10+'\\n')\n",
        "print('MAE: ', final_mae.mean(),' lag: ', lag_length)"
      ],
      "execution_count": null,
      "outputs": []
    },
    {
      "cell_type": "markdown",
      "metadata": {
        "id": "mw6Vz_uQ7XwR"
      },
      "source": [
        "# Predict 1 step forward"
      ]
    },
    {
      "cell_type": "code",
      "metadata": {
        "id": "RXL0m5qmCHX2"
      },
      "source": [
        "from datetime import timedelta"
      ],
      "execution_count": 190,
      "outputs": []
    },
    {
      "cell_type": "code",
      "metadata": {
        "id": "vyLbdV2ipDwv"
      },
      "source": [
        "# Обрезаем weather and covid\n",
        "data_weather = data_weather[data_weather['date']>pd.to_datetime('20201231')]\n",
        "data_covid = data_covid[data_covid['day_date']>pd.to_datetime('20201231')]"
      ],
      "execution_count": 605,
      "outputs": []
    },
    {
      "cell_type": "code",
      "metadata": {
        "id": "3EdZo-VYYbQg"
      },
      "source": [
        "#data - конец временного ряда (датасета)\n",
        "\n",
        "def predict_1_step(cut_df, column_name, station, lag_length, model):\n",
        "  \n",
        "  columns_to_save = cut_df.columns\n",
        "  date = cut_df['date'].iloc[-1] + timedelta(minutes=60)\n",
        "  year = date.year\n",
        "  day_year = date.dayofyear\n",
        "  day = date.day\n",
        "  hour = date.hour\n",
        "  zone = station\n",
        "  day_name = date.day_name()\n",
        "  cut_weather = data_weather[data_weather['date'] == date][weather_columns].to_numpy()\n",
        "  cut_covid = data_covid[data_covid['day_date'] == pd.Timestamp.round(date,freq='d')][covid_columns].to_numpy()#.reshape(1,)\n",
        "  target = -1 #потом перезаписывается\n",
        "\n",
        "  new_row = np.array([date,year,day_year,day,hour,zone,day_name])\n",
        "  new_row = np.hstack((new_row,cut_weather.ravel(),cut_covid.ravel(),target))\n",
        "  cut_df.loc[len(cut_df)] = new_row\n",
        "\n",
        "  temp = preprocessing(cut_df, column_name, lag_length)\n",
        "\n",
        "  x = np.array(temp.drop(columns = ['date','year','day_year','day','hour','zone','day_name', column_name]).iloc[-1])\n",
        "  y_pred = model.predict(x.reshape(1,-1)).round()\n",
        "\n",
        "  #cut_df.at[index,'column-name']='new value'\n",
        "  cut_df.loc[cut_df.index[-1],[column_name]] = y_pred\n",
        "  #cut_df = cut_df.replace(-1, y)\n",
        "\n",
        "  return cut_df[columns_to_save]"
      ],
      "execution_count": 520,
      "outputs": []
    },
    {
      "cell_type": "markdown",
      "metadata": {
        "id": "_7hZWB1kv-Fo"
      },
      "source": [
        "# Final_predictions"
      ]
    },
    {
      "cell_type": "code",
      "metadata": {
        "id": "2PFh52fFwAZn"
      },
      "source": [
        "with open('../to_remove.txt') as f:\n",
        "    lines = f.read().splitlines()\n",
        "\n",
        "need_to_predict = list(set(cols) - set(lines))\n",
        "need_to_predict_1 = need_to_predict[:int(len(need_to_predict)/2)]\n",
        "need_to_predict_2 = need_to_predict[int(len(need_to_predict)/2):]"
      ],
      "execution_count": 547,
      "outputs": []
    },
    {
      "cell_type": "code",
      "metadata": {
        "id": "xfaveonFxYjP"
      },
      "source": [
        "stations = data['zone'].unique()"
      ],
      "execution_count": null,
      "outputs": []
    },
    {
      "cell_type": "code",
      "metadata": {
        "id": "7pd7jYLzxRWe"
      },
      "source": [
        "cut = 100\n",
        "for column_name in need_to_predict_1:\n",
        "  for station in stations:\n",
        "    time_columns = ['date','year','day_year','day','hour','zone','day_name']\n",
        "    lag_length = 10\n",
        "\n",
        "    train_df = data[time_columns+weather_columns+covid_columns+[column_name]].query('zone == @station')\n",
        "    train_df = preprocessing(train_df,column_name, lag_length)\n",
        "\n",
        "    train_df = train_df.reset_index()\n",
        "    train_df = train_df.drop(columns = ['index'])\n",
        "    X = train_df.drop(columns = ['date','year','day_year','day','hour','zone','day_name', column_name])\n",
        "    Y = train_df[column_name]\n",
        "    \n",
        "    # ТУТ УЧИМ\n",
        "    lr_model = Ridge(alpha=0.7)\n",
        "    lr_model.fit(X,Y)\n",
        "    \n",
        "    cut_df = data[time_columns+weather_columns+covid_columns+[column_name]].query('zone == @station').iloc[-cut:]\n",
        "\n",
        "    for i in tqdm(range(90*24)):\n",
        "      cut_df = predict_1_step(cut_df, column_name, station, lag_length, lr_model)\n",
        "\n",
        "    cut_df.to_csv(column_name+'_'+station.replace('/','')+'.csv')\n",
        "    print(column_name+'   '+station + 'Done')"
      ],
      "execution_count": null,
      "outputs": []
    },
    {
      "cell_type": "code",
      "metadata": {
        "colab": {
          "base_uri": "https://localhost:8080/"
        },
        "id": "lRJrY-P989uL",
        "outputId": "e8ccaa58-b6bd-4d1d-abd2-0e4196d2c336"
      },
      "source": [
        "cut = 100\n",
        "for column_name in ['total']:\n",
        "  for station in stations:\n",
        "    time_columns = ['date','year','day_year','day','hour','zone','day_name']\n",
        "    lag_length = 10\n",
        "\n",
        "    train_df = data[time_columns+weather_columns+covid_columns+[column_name]].query('zone == @station')\n",
        "    train_df = preprocessing(train_df,column_name, lag_length)\n",
        "\n",
        "    train_df = train_df.reset_index()\n",
        "    train_df = train_df.drop(columns = ['index'])\n",
        "    X = train_df.drop(columns = ['date','year','day_year','day','hour','zone','day_name', column_name])\n",
        "    Y = train_df[column_name]\n",
        "    \n",
        "    # ТУТ УЧИМ\n",
        "    lr_model = Ridge(alpha=0.7)\n",
        "    lr_model.fit(X,Y)\n",
        "    \n",
        "    cut_df = data[time_columns+weather_columns+covid_columns+[column_name]].query('zone == @station').iloc[-cut:]\n",
        "\n",
        "    for i in tqdm(range(90*24)):\n",
        "      cut_df = predict_1_step(cut_df, column_name, station, lag_length, lr_model)\n",
        "\n",
        "    cut_df.to_csv(column_name+'_'+station.replace('/','')+'.csv')\n",
        "    print(column_name+'   '+station + 'Done')"
      ],
      "execution_count": 606,
      "outputs": [
        {
          "output_type": "stream",
          "text": [
            "100%|██████████████████████████████████████████████████████████████████████████████| 2160/2160 [02:08<00:00, 16.81it/s]\n"
          ],
          "name": "stderr"
        },
        {
          "output_type": "stream",
          "text": [
            "total   П/станция 1Done\n"
          ],
          "name": "stdout"
        },
        {
          "output_type": "stream",
          "text": [
            "100%|██████████████████████████████████████████████████████████████████████████████| 2160/2160 [02:08<00:00, 16.87it/s]\n"
          ],
          "name": "stderr"
        },
        {
          "output_type": "stream",
          "text": [
            "total   П/станция 2Done\n"
          ],
          "name": "stdout"
        },
        {
          "output_type": "stream",
          "text": [
            "100%|██████████████████████████████████████████████████████████████████████████████| 2160/2160 [02:11<00:00, 16.42it/s]\n"
          ],
          "name": "stderr"
        },
        {
          "output_type": "stream",
          "text": [
            "total   П/станция 3Done\n"
          ],
          "name": "stdout"
        },
        {
          "output_type": "stream",
          "text": [
            "100%|██████████████████████████████████████████████████████████████████████████████| 2160/2160 [02:15<00:00, 15.98it/s]\n"
          ],
          "name": "stderr"
        },
        {
          "output_type": "stream",
          "text": [
            "total   П/станция 4Done\n"
          ],
          "name": "stdout"
        },
        {
          "output_type": "stream",
          "text": [
            "100%|██████████████████████████████████████████████████████████████████████████████| 2160/2160 [02:07<00:00, 17.01it/s]\n"
          ],
          "name": "stderr"
        },
        {
          "output_type": "stream",
          "text": [
            "total   П/станция 5Done\n"
          ],
          "name": "stdout"
        },
        {
          "output_type": "stream",
          "text": [
            "100%|██████████████████████████████████████████████████████████████████████████████| 2160/2160 [02:07<00:00, 16.89it/s]\n"
          ],
          "name": "stderr"
        },
        {
          "output_type": "stream",
          "text": [
            "total   П/станция 6Done\n"
          ],
          "name": "stdout"
        },
        {
          "output_type": "stream",
          "text": [
            "100%|██████████████████████████████████████████████████████████████████████████████| 2160/2160 [02:07<00:00, 16.98it/s]\n"
          ],
          "name": "stderr"
        },
        {
          "output_type": "stream",
          "text": [
            "total   П/станция 7Done\n"
          ],
          "name": "stdout"
        },
        {
          "output_type": "stream",
          "text": [
            "100%|██████████████████████████████████████████████████████████████████████████████| 2160/2160 [02:07<00:00, 16.92it/s]\n"
          ],
          "name": "stderr"
        },
        {
          "output_type": "stream",
          "text": [
            "total   П/станция 8Done\n"
          ],
          "name": "stdout"
        },
        {
          "output_type": "stream",
          "text": [
            "100%|██████████████████████████████████████████████████████████████████████████████| 2160/2160 [02:07<00:00, 16.90it/s]"
          ],
          "name": "stderr"
        },
        {
          "output_type": "stream",
          "text": [
            "total   П/станция 9Done\n"
          ],
          "name": "stdout"
        },
        {
          "output_type": "stream",
          "text": [
            "\n"
          ],
          "name": "stderr"
        }
      ]
    },
    {
      "cell_type": "code",
      "metadata": {
        "id": "lAuilnYHphVZ"
      },
      "source": [
        "#cut_df[['date','total']]#.resample('total', on='time').sum()\n",
        "column_name = 'total'\n",
        "cut_df[['date',column_name]].groupby(cut_df[['date',column_name]].date.dt.date).sum()"
      ],
      "execution_count": null,
      "outputs": []
    },
    {
      "cell_type": "code",
      "metadata": {
        "colab": {
          "base_uri": "https://localhost:8080/"
        },
        "id": "TopPcK8i8hPW",
        "outputId": "650538c9-c6cd-4bdc-f246-ecf11ab0acd9"
      },
      "source": [
        "with open('../to_remove_2.txt') as f:\n",
        "    lines = f.read().splitlines()\n",
        "\n",
        "need_to_predict_v2 = list(set(cols) - set(lines))\n",
        "need_to_predict_v2 = list(set(need_to_predict_v2) - set(need_to_predict))\n",
        "#need_to_predict_v2_1 = need_to_predict[:int(len(need_to_predict)/2)]\n",
        "#need_to_predict_v2_2 = need_to_predict[int(len(need_to_predict)/2):]\n",
        "need_to_predict_v2[12:]"
      ],
      "execution_count": 650,
      "outputs": [
        {
          "output_type": "execute_result",
          "data": {
            "text/plain": [
              "['избили',\n",
              " 'задыхается( бронхит, пневмония)',\n",
              " 'выс. давление( немеет язык)',\n",
              " 'головокружение( травмы нет)',\n",
              " 'травма  головы( кровотечение)',\n",
              " 'плохо с сердцем( перенес инфаркт)',\n",
              " 'болит голова( травмы нет)',\n",
              " 'травма головы']"
            ]
          },
          "metadata": {
            "tags": []
          },
          "execution_count": 650
        }
      ]
    },
    {
      "cell_type": "code",
      "metadata": {
        "colab": {
          "base_uri": "https://localhost:8080/"
        },
        "id": "j8UAkOBKZXkK",
        "outputId": "22df5293-27aa-4ac0-f7e5-fa60fc2a2950"
      },
      "source": [
        "from glob import glob\n",
        "files = {}\n",
        "for file_str in glob('*Пстанци*'):\n",
        "  file_str_temp = file_str.split('_')[0]\n",
        "  if file_str_temp not in files.keys():\n",
        "    files[file_str_temp] = 1\n",
        "  else:\n",
        "    files[file_str_temp] += 1\n",
        "\n",
        "set(need_to_predict) - set(list(files.keys()))"
      ],
      "execution_count": 596,
      "outputs": [
        {
          "output_type": "execute_result",
          "data": {
            "text/plain": [
              "{'без сознания', 'боли в животе'}"
            ]
          },
          "metadata": {
            "tags": []
          },
          "execution_count": 596
        }
      ]
    },
    {
      "cell_type": "code",
      "metadata": {
        "id": "NqlBK2b0bHfq"
      },
      "source": [
        "#Люба\n",
        "set(['низкое давление',\n",
        "'боли в животе( выс. температура)',\n",
        "'рвота( выс.температура)',\n",
        "'плохо с сердцем',\n",
        "'парализовало',\n",
        "'выс. давление( боли в сердце)',\n",
        "'выс. темп.( задыхается)',\n",
        "'задыхается( боли в сердце)',\n",
        "'боли в животе',\n",
        "'плохо',\n",
        "'выс. темп'])"
      ],
      "execution_count": null,
      "outputs": []
    },
    {
      "cell_type": "code",
      "metadata": {
        "id": "YbfK8mRzfWRa"
      },
      "source": [
        "files = []\n",
        "for file_str in glob('*Пстанци*'):\n",
        "  file_str_temp = file_str.split('_')[0]\n",
        "  if file_str_temp not in files:\n",
        "    files[file_str_temp] = 1\n",
        "  else:\n",
        "    files[file_str_temp] += 1"
      ],
      "execution_count": null,
      "outputs": []
    },
    {
      "cell_type": "code",
      "metadata": {
        "id": "ifZ2LwR4ro6T"
      },
      "source": [
        "df = pd.read_csv('submission.csv', encoding='1251')"
      ],
      "execution_count": 625,
      "outputs": []
    },
    {
      "cell_type": "code",
      "metadata": {
        "colab": {
          "base_uri": "https://localhost:8080/"
        },
        "id": "6wxWRr2LxSnt",
        "outputId": "fe1136ff-930f-406b-b08b-ededc07bc9b0"
      },
      "source": [
        "#station[-1]\n",
        "glob(column_name+'_*'+station[-1]+'*')[0]"
      ],
      "execution_count": 638,
      "outputs": [
        {
          "output_type": "execute_result",
          "data": {
            "text/plain": [
              "'total_Пстанция 9.csv'"
            ]
          },
          "metadata": {
            "tags": []
          },
          "execution_count": 638
        }
      ]
    },
    {
      "cell_type": "markdown",
      "metadata": {
        "id": "G6GXEcQmuuD-"
      },
      "source": [
        "#Trash"
      ]
    },
    {
      "cell_type": "code",
      "metadata": {
        "colab": {
          "base_uri": "https://localhost:8080/",
          "height": 0
        },
        "id": "56S2EkITt5fV",
        "outputId": "8b6fd19d-d21d-4293-abae-cfb1eb3cde73"
      },
      "source": [
        "cols = [\n",
        "         'Перевозка плановая',\n",
        "         'боли в животе',\n",
        "         'выс. темп.',\n",
        "         'плохо с сердцем',\n",
        "         'Перевозка экстренная',\n",
        "         'выс. давление( боли в сердце)',\n",
        "         'задыхается',\n",
        "         'плохо',\n",
        "         'без сознания',\n",
        "         'выс. давление( голов.боль,головокруж)',\n",
        "         'выс. давление',\n",
        "         'плохо с сердцем( выс. давление)',\n",
        "         'теряет сознание',\n",
        "         'парализовало',\n",
        "         'плохо с сердцем( боль за грудиной)',\n",
        "         'задыхается( боли в сердце)',\n",
        "         'боли в животе( жидкий стул)',\n",
        "         'выс. темп.( задыхается)',\n",
        "         'рвота( болит живот)',\n",
        "         'рвота',\n",
        "         'боли в животе( выс. температура)',\n",
        "         'травма ноги',\n",
        "         'рвота( выс.температура)',\n",
        "         'задыхается( бронхит, пневмония)',\n",
        "         'боли в животе( рвота)',\n",
        "         'низкое давление',\n",
        "         'плохо с сердцем( аритмия)',\n",
        "         'травма головы',\n",
        "         'рвота( выс. давление)',\n",
        "         'избили',\n",
        "         'психоз( не лечился)',\n",
        "         'плохо с сердцем( хрон)',\n",
        "         'плохо с сердцем( перенес инфаркт)',\n",
        "         'психоз( лечился)',\n",
        "         'приступ эпилепсии',\n",
        "         'болит нога( травмы нет)',\n",
        "         'травма  головы( кровотечение)',\n",
        "         'парализовало( отнялась рука,нога)',\n",
        "         'выс. давление( отнялась рука,нога)',\n",
        "         'травма руки',\n",
        "         'болит спина( травмы нет)',\n",
        "         'головокружение( травмы нет)',\n",
        "         'приступ почек',\n",
        "         'выс. давление( немеет язык)',\n",
        "         'авария ( сбило машиной) постр.',\n",
        "         'аритмия',\n",
        "         'отравление( алкогольное)',\n",
        "         'выс. давление( не помогают лекарства)',\n",
        "         'болит голова( травмы нет)',\n",
        "         'плачет',\n",
        "         'аллергия( сыпь)',\n",
        "         'кровотечение( желуд-кишечное)',\n",
        "         'бронхиальная астма( задых.)',\n",
        "         'задыхается( бронхиальная астма)',\n",
        "         'плохо с сердцем( низкое давление)',\n",
        "         'аллергия( отекло лицо)',\n",
        "         'кровотечение( носовое)',\n",
        "         'кровотечение( маточное)',\n",
        "         'выс. давление( рвота)',\n",
        "         'приступ( сердцебиение)',\n",
        "         'боли в животе( приступ почек)',\n",
        "         'плохо( выпил)',\n",
        "         'судороги',\n",
        "         'пожар',\n",
        "         'травма позвоночника',\n",
        "         'травма лица',\n",
        "         'умер?',\n",
        "         'психоз( алкогольный)',\n",
        "         'аллергия( задыхается)',\n",
        "         'дежурство платное',\n",
        "         'боли в груди',\n",
        "         'задыхается( аллергия)',\n",
        "         'Вызов специальной бригады',\n",
        "         'боли в животе( беременность)',\n",
        "         'травма руки( кровотечение)',\n",
        "         'кровотечение носовое',\n",
        "         'судороги( приступ эпилепсии)',\n",
        "         'выс. темп.( сыпь)',\n",
        "         'бронхиальная астма( хрон)',\n",
        "         'боли в груди( продуло)',\n",
        "         'задержка мочи',\n",
        "         'не дышит',\n",
        "         'кровотечение( травма)',\n",
        "         'жидкий стул',\n",
        "         'болит рука( травмы нет)',\n",
        "         'отекло лицо( аллергия)',\n",
        "         'отравление( медикаментами)',\n",
        "         'отморожение',\n",
        "         'выс. давление( выс. температура)',\n",
        "         'выс. давление( хрон)',\n",
        "         'переохлаждение',\n",
        "         'умирает',\n",
        "         'травма ребер( задыхается)',\n",
        "         'сахарный диабет( плохо)',\n",
        "         'плохо с сердцем( элект.кардиостимулятор)',\n",
        "         'ножевое ранение',\n",
        "         'психоз( белая горячка)',\n",
        "         'травма ноги( кровотечение)',\n",
        "         'судороги( выс. температура)',\n",
        "         'болит ухо',\n",
        "         'падение с высоты',\n",
        "         'дежурство',\n",
        "         'суицидальная попытка',\n",
        "         'отравление пищевое',\n",
        "         'весь в крови',\n",
        "         'кровотечение( изо рта)',\n",
        "         'травма ребер( не задыхается)',\n",
        "         'взрывное устройство',\n",
        "         'выс. давление( перекосило лицо)',\n",
        "         'рвота( отравление)',\n",
        "         'ожог глаз',\n",
        "         'рвота( сахарный диабет)',\n",
        "         'укусила собака',\n",
        "         'инородное тело ЖКТ( пищевода)',\n",
        "         'боли в животе( приступ печени)',\n",
        "         'ожог термический( кипятком) ноги',\n",
        "         'отек половых органов',\n",
        "         'тяж.ст.опьянения',\n",
        "         'отравление химическими средствами',\n",
        "         'белая горячка',\n",
        "         'болит глаз( травмы нет)',\n",
        "         'парализовало( без сознания)',\n",
        "         'рана резаная',\n",
        "         'рвота( беременность)',\n",
        "         'выпадение трубки',\n",
        "         'инородное тело( дыхательных путей)',\n",
        "         'пена изо рта( судороги)',\n",
        "         'плохо( наркоман)',\n",
        "         'инородное тело( носа)',\n",
        "         'сахарный диабет( рвота)',\n",
        "         'плохо( запой)',\n",
        "         'кровотечение( вскрыл вены)',\n",
        "         'кровотеч.( маточное ) беременность',\n",
        "         'отравление угарным газом',\n",
        "         'без сознания( травма головы)',\n",
        "         'посинел',\n",
        "         'рана инфицированная',\n",
        "         'травма пальца( кровотечение)',\n",
        "         'приступ печени',\n",
        "         'психоз( есть направление)',\n",
        "         'травма живота',\n",
        "         'без сознания( сахарный диабет)',\n",
        "         'умер?( хронический больной)',\n",
        "         'ожог термический( кипятком) руки',\n",
        "         'роды 2',\n",
        "         'пена изо рта( без сознания)',\n",
        "         'ожог химический',\n",
        "         'сахарный диабет( без сознания)',\n",
        "         'боли в груди( травма грудной клетки)',\n",
        "         'истерия',\n",
        "         'наркоман( передозировка)',\n",
        "         'ожог термический( кипятком ) всего тела',\n",
        "         'огнестрельное ранение'\n",
        "]\n",
        "\n",
        "arr = []\n",
        "for c in cols:\n",
        "  arr.append(data[c].value_counts()[0]/len(data))\n",
        "\n",
        "plt.hist(arr,bins = 100)"
      ],
      "execution_count": 529,
      "outputs": [
        {
          "output_type": "execute_result",
          "data": {
            "text/plain": [
              "(array([ 1.,  0.,  0.,  0.,  0.,  0.,  0.,  0.,  0.,  1.,  0.,  0.,  0.,\n",
              "         0.,  0.,  1.,  0.,  0.,  0.,  0.,  0.,  0.,  0.,  0.,  0.,  0.,\n",
              "         0.,  0.,  0.,  0.,  0.,  0.,  0.,  1.,  0.,  0.,  0.,  0.,  0.,\n",
              "         0.,  0.,  0.,  0.,  0.,  0.,  0.,  0.,  0.,  0.,  0.,  0.,  0.,\n",
              "         0.,  0.,  1.,  0.,  1.,  0.,  1.,  0.,  0.,  1.,  0.,  1.,  0.,\n",
              "         0.,  0.,  0.,  1.,  0.,  0.,  1.,  0.,  2.,  2.,  0.,  0.,  2.,\n",
              "         1.,  0.,  2.,  2.,  2.,  1.,  2.,  2.,  2.,  4.,  6.,  5.,  4.,\n",
              "         1.,  2.,  4.,  6.,  5., 11., 11., 20., 43.]),\n",
              " array([0.7128891 , 0.71575565, 0.7186222 , 0.72148874, 0.72435529,\n",
              "        0.72722184, 0.73008839, 0.73295493, 0.73582148, 0.73868803,\n",
              "        0.74155457, 0.74442112, 0.74728767, 0.75015422, 0.75302076,\n",
              "        0.75588731, 0.75875386, 0.7616204 , 0.76448695, 0.7673535 ,\n",
              "        0.77022005, 0.77308659, 0.77595314, 0.77881969, 0.78168623,\n",
              "        0.78455278, 0.78741933, 0.79028588, 0.79315242, 0.79601897,\n",
              "        0.79888552, 0.80175206, 0.80461861, 0.80748516, 0.81035171,\n",
              "        0.81321825, 0.8160848 , 0.81895135, 0.82181789, 0.82468444,\n",
              "        0.82755099, 0.83041754, 0.83328408, 0.83615063, 0.83901718,\n",
              "        0.84188372, 0.84475027, 0.84761682, 0.85048337, 0.85334991,\n",
              "        0.85621646, 0.85908301, 0.86194955, 0.8648161 , 0.86768265,\n",
              "        0.8705492 , 0.87341574, 0.87628229, 0.87914884, 0.88201538,\n",
              "        0.88488193, 0.88774848, 0.89061502, 0.89348157, 0.89634812,\n",
              "        0.89921467, 0.90208121, 0.90494776, 0.90781431, 0.91068085,\n",
              "        0.9135474 , 0.91641395, 0.9192805 , 0.92214704, 0.92501359,\n",
              "        0.92788014, 0.93074668, 0.93361323, 0.93647978, 0.93934633,\n",
              "        0.94221287, 0.94507942, 0.94794597, 0.95081251, 0.95367906,\n",
              "        0.95654561, 0.95941216, 0.9622787 , 0.96514525, 0.9680118 ,\n",
              "        0.97087834, 0.97374489, 0.97661144, 0.97947799, 0.98234453,\n",
              "        0.98521108, 0.98807763, 0.99094417, 0.99381072, 0.99667727,\n",
              "        0.99954382]),\n",
              " <a list of 100 Patch objects>)"
            ]
          },
          "metadata": {
            "tags": []
          },
          "execution_count": 529
        },
        {
          "output_type": "display_data",
          "data": {
            "text/plain": [
              "<Figure size 1440x720 with 1 Axes>"
            ],
            "image/png": "[encoded data removed]"
          },
          "metadata": {
            "tags": [],
            "needs_background": "light"
          }
        }
      ]
    },
    {
      "cell_type": "code",
      "metadata": {
        "id": "R0c6w_e3uOGg"
      },
      "source": [
        ""
      ],
      "execution_count": null,
      "outputs": []
    }
  ]
}